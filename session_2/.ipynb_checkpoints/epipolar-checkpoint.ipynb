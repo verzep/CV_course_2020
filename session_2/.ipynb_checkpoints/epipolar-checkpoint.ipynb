{
 "cells": [
  {
   "cell_type": "markdown",
   "metadata": {},
   "source": [
    "\n",
    "# Epipolar Geometry\n",
    "## Computer Vision & Pattern Recognition 2020  ( Professor G. Boracchi)\n",
    "## Lab. Session 2\n",
    "------------\n",
    "### Pietro Verzelli\n",
    "\n",
    "\n"
   ]
  },
  {
   "cell_type": "markdown",
   "metadata": {},
   "source": [
    "## Imports and preliminarities"
   ]
  },
  {
   "cell_type": "code",
   "execution_count": 1,
   "metadata": {},
   "outputs": [],
   "source": [
    "import numpy as np\n",
    "import matplotlib.pyplot as plt\n",
    "\n",
    "def draw_line(l, I, options):\n",
    "    bottomRow = [0, 1, -I.shape[0]]\n",
    "    topRow = [0, 1, -1]\n",
    "\n",
    "    intTop = np.cross(l, topRow)\n",
    "    intTop = intTop / intTop[2];\n",
    "\n",
    "    intBottom = np.cross(l, bottomRow);\n",
    "    intBottom = intBottom / intBottom[2];\n",
    "\n",
    "    plt.plot([intTop[0], intBottom[0]], [intTop[1], intBottom[1]], options)\n",
    "\n",
    "\n",
    "#### loading the matlab  workspace\n",
    "from scipy.io import loadmat\n",
    "cube = loadmat('cube.mat')\n",
    "img1 = cube['img1']\n",
    "img2 = cube['img2']\n",
    "\n",
    "X = cube['X']\n",
    "Y = cube['Y']\n",
    "G = cube['G'][:,0]"
   ]
  },
  {
   "cell_type": "markdown",
   "metadata": {},
   "source": [
    "Data is organized as follows: the first 3 raws are the coordinates of the points of an image, while the last 3 are the coordinates of the mathcing point in the other one."
   ]
  },
  {
   "cell_type": "code",
   "execution_count": 2,
   "metadata": {},
   "outputs": [],
   "source": [
    "p = Y[:3][:,G>0]\n",
    "pP = Y[3:][:,G>0]"
   ]
  },
  {
   "cell_type": "markdown",
   "metadata": {},
   "source": [
    "Here's a pair of points (note that each point is a column!)"
   ]
  },
  {
   "cell_type": "code",
   "execution_count": 3,
   "metadata": {},
   "outputs": [
    {
     "name": "stdout",
     "output_type": "stream",
     "text": [
      "x  [189.25695801 370.69085693   1.        ]\n",
      "x_p  [462.00836182 230.06719971   1.        ]\n"
     ]
    }
   ],
   "source": [
    "index = 3\n",
    "print('x ', p[:,index])\n",
    "print('x_p ',pP[:,index])"
   ]
  },
  {
   "cell_type": "markdown",
   "metadata": {},
   "source": [
    "Let's plot all of them"
   ]
  },
  {
   "cell_type": "code",
   "execution_count": null,
   "metadata": {
    "scrolled": true
   },
   "outputs": [],
   "source": [
    "fig, (ax1,ax2) = plt.subplots(1,2, figsize = (15,30))\n",
    "\n",
    "ax1.imshow(img1)\n",
    "ax1.plot(p[0,:],p[1,:], 'x', ms = 10)\n",
    "ax1.set_title('image 1')\n",
    "#ax1.scatter(p[:2], 'x')\n",
    "\n",
    "ax2.imshow(img2)\n",
    "ax2.set_title('image 2')\n",
    "ax2.plot(pP[0,:],pP[1,:],'x', ms = 10)\n",
    "\n",
    "plt.show()"
   ]
  },
  {
   "cell_type": "markdown",
   "metadata": {},
   "source": [
    "# The Fundamental Matrix\n",
    "\n",
    "---------------------\n",
    "\n",
    "First, we need to create the _preconditioning matrix_ to normalize the points.\n",
    "\n",
    "$$\n",
    "T = \n",
    "\\begin{pmatrix}\n",
    "\\frac{1}{s} & 0 & \\frac{t_x}{s}\\\\\n",
    "0 & \\frac{1}{s} & \\frac{t_y}{s}\\\\\n",
    "0 & 0   & 1  \n",
    "\\end{pmatrix}\n",
    "$$\n",
    "\n",
    "where \n",
    "\n",
    "* $t_x$ is the mean of the x-coordinates\n",
    "* $t_y$ is the mean of the y-coordinates\n",
    "* $s$ normalize the vector (so is the norm divided the required norm)"
   ]
  },
  {
   "cell_type": "code",
   "execution_count": null,
   "metadata": {},
   "outputs": [],
   "source": [
    "def precond_matrix(X):\n",
    "    #The pts are the columns of X!\n",
    "    #X[:,i] is the i-th pt \n",
    "    \n",
    "    t_x = np.average(X[0]) #so, these are all the x-coordinates of the pts\n",
    "    t_y = np.average(X[1]) #and these are the y-coordinates!\n",
    "    \n",
    "    s = np.std(X[:2],axis = 0, ddof=0).mean()/ np.sqrt(2)\n",
    "    \n",
    "    T = np.zeros((3,3))\n",
    "    T[0,0]=T[1,1]=1/s\n",
    "    T[2,2]=1\n",
    "    T[0,2]=-t_x/s\n",
    "    T[1,2]=-t_y/s\n",
    "    \n",
    "    return T\n"
   ]
  },
  {
   "cell_type": "markdown",
   "metadata": {},
   "source": [
    "Now we create the _fundamental matrix_"
   ]
  },
  {
   "cell_type": "code",
   "execution_count": null,
   "metadata": {},
   "outputs": [],
   "source": [
    "def fundamental_matrix(X, Y):\n",
    "    #The pts are the columns of X and Y\n",
    "    #X[:,i] is the i-th pt \n",
    "\n",
    "    n_points = X.shape[1]\n",
    "    \n",
    "    #1.compute the preconditioning matrix\n",
    "    Tx = precond_matrix(X)\n",
    "    Ty = precond_matrix(Y)\n",
    "    \n",
    "    #2.precondition the pts\n",
    "    Xn = Tx@X\n",
    "    Yn = Ty@Y\n",
    "    \n",
    "    #3.create the design matrix\n",
    "    A = np.zeros((n_points,9))\n",
    "    #we do it line by line\n",
    "    for i in range(n_points):\n",
    "        x = Xn[:,i]\n",
    "        y = Yn[:,i]\n",
    "        A[i,:] = [x[0]*y[0], x[0]*y[1], x[0],\n",
    "                 x[1]*y[0], x[1]*y[1], x[1],\n",
    "                 y[0],y[1], 1]\n",
    "        #another way to do it is simply\n",
    "        #A[i,:] = np.kron(Xn[:,i], Yn[:,i])\n",
    "        \n",
    "    # 4.now the DLT\n",
    "    U, S, Vt = np.linalg.svd(A)\n",
    "    V = Vt.T #numpy returns Vt, not V(!!!)\n",
    "    \n",
    "    #we reshape the vector to obtain the matrix\n",
    "    FF = V[:,-1].reshape(3,3).T\n",
    "    \n",
    "    #5.enforce the rank to be 2 by truncated svd\n",
    "    u,s,vt = np.linalg.svd(FF)\n",
    "    s[-1] = 0  #numpy returns s as a vector \n",
    "    #create f just by using the new s\n",
    "    f = (u*s)@vt\n",
    "    #invert preconditioning\n",
    "    F = Ty.T@f@Tx  \n",
    "    return F\n",
    "    \n",
    "    \n",
    "\n",
    "    "
   ]
  },
  {
   "cell_type": "markdown",
   "metadata": {},
   "source": [
    "Now we have all the elements to compute the fundamental matrix $F$ for our problem"
   ]
  },
  {
   "cell_type": "code",
   "execution_count": null,
   "metadata": {},
   "outputs": [],
   "source": [
    "#Estimate the fundamental matrix\n",
    "F = fundamental_matrix(p, pP);   \n",
    "\n"
   ]
  },
  {
   "cell_type": "markdown",
   "metadata": {},
   "source": [
    "## Epipolar relations\n",
    "-------------------\n",
    "\n",
    "We expect the epipolar relation to hold (at least, approximatively).\n",
    "\n",
    "$$\n",
    "x_p^{\\top} F x \\approx 0\n",
    "$$\n",
    "\n",
    "and\n",
    "\n",
    "$$\n",
    "x^{\\top} F^{\\top} x_p \\approx 0\n",
    "$$"
   ]
  },
  {
   "cell_type": "code",
   "execution_count": null,
   "metadata": {},
   "outputs": [],
   "source": [
    "## verify epipolar relation\n",
    "indx = 0\n",
    "\n",
    "Zeros =[]\n",
    "Zeros_2 = []\n",
    "\n",
    "for indx in range(97):\n",
    "    x = p[:, indx]\n",
    "    xP = pP[:, indx]\n",
    "    Zeros.append(xP.T @ F @ x)\n",
    "    Zeros_2.append(x.T @ F.T @ xP)\n",
    "    \n",
    "print(np.array(Zeros).mean())\n",
    "print(np.array(Zeros_2).mean())"
   ]
  },
  {
   "cell_type": "markdown",
   "metadata": {},
   "source": [
    "## Epipoles\n",
    "----------------------------------\n",
    "\n",
    "To compute the epipoles we simply use the `scipy.linalg.null_space` function."
   ]
  },
  {
   "cell_type": "code",
   "execution_count": null,
   "metadata": {},
   "outputs": [],
   "source": [
    "from scipy.linalg import null_space as null\n",
    "\n",
    "#find the epipole\n",
    "e = null(F)\n",
    "e /= e[2]"
   ]
  },
  {
   "cell_type": "markdown",
   "metadata": {},
   "source": [
    "Computing the left null space is the same as computing the null space of the transpose."
   ]
  },
  {
   "cell_type": "code",
   "execution_count": null,
   "metadata": {},
   "outputs": [],
   "source": [
    "eP = null(F.T)\n",
    "eP /= eP[2]"
   ]
  },
  {
   "cell_type": "markdown",
   "metadata": {},
   "source": [
    "We now compute the epipolar lines for the __second__ image\n",
    "$$\n",
    "l_p = F x\n",
    "$$"
   ]
  },
  {
   "cell_type": "code",
   "execution_count": null,
   "metadata": {},
   "outputs": [],
   "source": [
    "lP = F @ p;"
   ]
  },
  {
   "cell_type": "markdown",
   "metadata": {},
   "source": [
    "And then we plot a bunch of them"
   ]
  },
  {
   "cell_type": "code",
   "execution_count": null,
   "metadata": {},
   "outputs": [],
   "source": [
    "fig, ax1 = plt.subplots(1, figsize = (10,10))\n",
    "\n",
    "indx_list = [0,1,2,3,4,55, 77]\n",
    "\n",
    "ax1.imshow(img2)\n",
    "ax1.plot(pP[0,:],pP[1,:], 'x', ms = 10)\n",
    "ax1.set_title('image 2')\n",
    "ax1.set_xlim()\n",
    "for indx in indx_list:\n",
    "    plt.scatter(pP[0,indx],pP[1,indx], s= 200\n",
    "                , facecolors='none', edgecolors='r')\n",
    "    draw_line(lP[:,indx], img1, 'b')\n",
    "\n",
    "plt.axis('off')\n",
    "plt.show()"
   ]
  },
  {
   "cell_type": "markdown",
   "metadata": {},
   "source": [
    "Finally, we plot the epipoles, which will be the interception of all these lines"
   ]
  },
  {
   "cell_type": "code",
   "execution_count": null,
   "metadata": {},
   "outputs": [],
   "source": [
    "#plot the epipoles\n",
    "\n",
    "indx_list= np.arange(pP.shape[1])\n",
    "            \n",
    "plt.figure(figsize = (20,20))\n",
    "plt.imshow(img2)\n",
    "plt.plot(pP[0,:], pP[1,:], 'x')\n",
    "for indx in indx_list:\n",
    "    plt.scatter(pP[0,indx], pP[1,indx], s = 50, c='b'  )\n",
    "    plt.plot([eP[0], pP[0, indx] ], [eP[1], pP[1, indx]], 'b' )   \n",
    "plt.axis('off')\n",
    "plt.show()"
   ]
  },
  {
   "cell_type": "code",
   "execution_count": null,
   "metadata": {},
   "outputs": [],
   "source": []
  }
 ],
 "metadata": {
  "kernelspec": {
   "display_name": "Python 3",
   "language": "python",
   "name": "python3"
  },
  "language_info": {
   "codemirror_mode": {
    "name": "ipython",
    "version": 3
   },
   "file_extension": ".py",
   "mimetype": "text/x-python",
   "name": "python",
   "nbconvert_exporter": "python",
   "pygments_lexer": "ipython3",
   "version": "3.7.6"
  }
 },
 "nbformat": 4,
 "nbformat_minor": 4
}
