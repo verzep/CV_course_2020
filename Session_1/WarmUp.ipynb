{
  "nbformat": 4,
  "nbformat_minor": 0,
  "metadata": {
    "kernelspec": {
      "display_name": "Python 3",
      "language": "python",
      "name": "python3"
    },
    "language_info": {
      "codemirror_mode": {
        "name": "ipython",
        "version": 3
      },
      "file_extension": ".py",
      "mimetype": "text/x-python",
      "name": "python",
      "nbconvert_exporter": "python",
      "pygments_lexer": "ipython3",
      "version": "3.7.4"
    },
    "colab": {
      "name": "WarmUp.ipynb",
      "provenance": [],
      "include_colab_link": true
    }
  },
  "cells": [
    {
      "cell_type": "markdown",
      "metadata": {
        "id": "view-in-github",
        "colab_type": "text"
      },
      "source": [
        "<a href=\"https://colab.research.google.com/github/verzep/CV_course_2020/blob/master/Session_1/WarmUp.ipynb\" target=\"_parent\"><img src=\"https://colab.research.google.com/assets/colab-badge.svg\" alt=\"Open In Colab\"/></a>"
      ]
    },
    {
      "cell_type": "markdown",
      "metadata": {
        "id": "pIC-T0Y6OOq4",
        "colab_type": "text"
      },
      "source": [
        "# Warmup: drawing lines\n",
        "## Computer Vision & Pattern Recognition 2020  ( Professor G. Boracchi)\n",
        "## Lab. Session 1\n",
        "------------\n",
        "### Pietro Verzelli\n",
        "\n",
        "\n"
      ]
    },
    {
      "cell_type": "code",
      "metadata": {
        "id": "Zfx5bHqtOOq-",
        "colab_type": "code",
        "colab": {}
      },
      "source": [
        "import time\n",
        "import numpy as np\n",
        "import matplotlib\n",
        "matplotlib.use('TkAgg')\n",
        "import matplotlib.pyplot as plt\n",
        "#%matplotlib inline"
      ],
      "execution_count": 0,
      "outputs": []
    },
    {
      "cell_type": "code",
      "metadata": {
        "id": "SWKNUWo1OOrO",
        "colab_type": "code",
        "colab": {}
      },
      "source": [
        "from utils import select_points, draw_line"
      ],
      "execution_count": 0,
      "outputs": []
    },
    {
      "cell_type": "markdown",
      "metadata": {
        "id": "u7r975zYOOrX",
        "colab_type": "text"
      },
      "source": [
        "### A simple geometrical construction with 2D homogeneous coordinates\n",
        "\n",
        "Our goal is to complete the drawing of the isometric projection http://en.wikipedia.org/wiki/Isometric_projection of a cuboid when the points corresponding to a vertex and to three vertices adjacent to it are given as input. The geometrical construction only requires to find lines parallel to other lines, find lines passing through two points, and intersect lines, which is easily achieved in homogeneous coordinates.\n",
        "\n",
        "We start by selecting poinys `a`, `b`, `c`, `e` (order __DOES__ matter!) in the figure."
      ]
    },
    {
      "cell_type": "code",
      "metadata": {
        "id": "VkIRViIhOOra",
        "colab_type": "code",
        "colab": {},
        "outputId": "62db6fd9-e564-4f2f-867c-e649c7037c52"
      },
      "source": [
        "# Drawing a Cube\n",
        "\n",
        "#img = plt.imread(\"bluecube.jpg\")\n",
        "img = plt.imread(\"cube.jpeg\")\n",
        "pts = select_points(img, 4)"
      ],
      "execution_count": 0,
      "outputs": [
        {
          "output_type": "stream",
          "text": [
            "Click to begin\n",
            "Select 4 points\n",
            "Key click to confirm\n"
          ],
          "name": "stdout"
        }
      ]
    },
    {
      "cell_type": "markdown",
      "metadata": {
        "id": "t4WzmXNTOOrl",
        "colab_type": "text"
      },
      "source": [
        "Let's see what we got"
      ]
    },
    {
      "cell_type": "code",
      "metadata": {
        "id": "L73m17xNOOrn",
        "colab_type": "code",
        "colab": {},
        "outputId": "156376db-1bd7-4f7e-e8ee-e2d0505bdaac"
      },
      "source": [
        "pts"
      ],
      "execution_count": 0,
      "outputs": [
        {
          "output_type": "execute_result",
          "data": {
            "text/plain": [
              "array([[ 52.14285714,  94.66883117],\n",
              "       [101.75324675,  78.82467532],\n",
              "       [102.27272727,  20.38311688],\n",
              "       [ 51.62337662,  35.70779221]])"
            ]
          },
          "metadata": {
            "tags": []
          },
          "execution_count": 4
        }
      ]
    },
    {
      "cell_type": "markdown",
      "metadata": {
        "id": "wntRIw7EOOrv",
        "colab_type": "text"
      },
      "source": [
        "Now we name those points after the figure.\n",
        "Remember to add the third coordinate, so that they are the *homogeneus coordinates* of the points!"
      ]
    },
    {
      "cell_type": "code",
      "metadata": {
        "id": "Dunxne8wOOrz",
        "colab_type": "code",
        "colab": {}
      },
      "source": [
        "a = np.array([pts[0,0], pts[0,1], 1.])\n",
        "b = np.array([pts[1,0], pts[1,1], 1.])\n",
        "c = np.array([pts[2,0], pts[2,1], 1.])\n",
        "e = np.array([pts[3,0], pts[3,1], 1.])\n",
        "\n"
      ],
      "execution_count": 0,
      "outputs": []
    },
    {
      "cell_type": "code",
      "metadata": {
        "scrolled": true,
        "id": "aR3mI0P8OOr6",
        "colab_type": "code",
        "colab": {},
        "outputId": "2037536f-7745-49e1-f674-1ecfccfd31c0"
      },
      "source": [
        "%matplotlib inline\n",
        "\n",
        "plt.imshow(img)\n",
        "plt.plot(a[0],a[1], 'r.')\n",
        "plt.plot(b[0],b[1], 'r.')\n",
        "plt.plot(c[0],c[1], 'r.')\n",
        "plt.plot(e[0],e[1], 'r.')\n",
        "plt.show()\n"
      ],
      "execution_count": 0,
      "outputs": [
        {
          "output_type": "display_data",
          "data": {
            "image/png": "[encoded data removed]",
            "text/plain": [
              "<Figure size 432x288 with 1 Axes>"
            ]
          },
          "metadata": {
            "tags": [],
            "needs_background": "light"
          }
        }
      ]
    },
    {
      "cell_type": "markdown",
      "metadata": {
        "id": "hc1pm6Y3OOsB",
        "colab_type": "text"
      },
      "source": [
        "### Finding some lines\n",
        "\n",
        "Now variables `a`, `b`, `c` and `e` are 3-vectors containing the homogeneous coordinates of the 2D points. We need to find the lines passing through couples of points, using the cross product"
      ]
    },
    {
      "cell_type": "code",
      "metadata": {
        "id": "LuhIZZCaOOsE",
        "colab_type": "code",
        "colab": {}
      },
      "source": [
        "from numpy import cross\n",
        "\n",
        "lab=cross(a,b) #line passing through a and b\n",
        "lac=cross(a,c) #line passing through a and c\n",
        "lae=cross(a,e) #line passing through a and e\n"
      ],
      "execution_count": 0,
      "outputs": []
    },
    {
      "cell_type": "markdown",
      "metadata": {
        "id": "mG_u_fB5OOsK",
        "colab_type": "text"
      },
      "source": [
        "`lab`, `lac` and `lae` now contain the homogeneous represenation of the three lines `ab`, `ac` and `ae`. We can easily check that the lines actually contain the points by using the incidence relation:"
      ]
    },
    {
      "cell_type": "code",
      "metadata": {
        "id": "bSTTnI-VOOsM",
        "colab_type": "code",
        "colab": {},
        "outputId": "774f3ce6-1a12-4d90-fba9-b459bd083821"
      },
      "source": [
        "#check\n",
        "print(lab.dot(a))\n",
        "print(lab.dot(b))\n",
        "print(lac.dot(a))\n",
        "print(lac.dot(c))\n",
        "print(lae.dot(a))\n",
        "print(lae.dot(e))"
      ],
      "execution_count": 0,
      "outputs": [
        {
          "output_type": "stream",
          "text": [
            "0.0\n",
            "0.0\n",
            "-9.094947017729282e-13\n",
            "0.0\n",
            "0.0\n",
            "4.547473508864641e-13\n"
          ],
          "name": "stdout"
        }
      ]
    },
    {
      "cell_type": "markdown",
      "metadata": {
        "id": "W8nigP5jOOsU",
        "colab_type": "text"
      },
      "source": [
        "### Parallelism\n",
        "We now need to compute the line parallel to ab and passing through c. In order to do this, we create the line at infinity:"
      ]
    },
    {
      "cell_type": "code",
      "metadata": {
        "id": "Bwgb8HQjOOsV",
        "colab_type": "code",
        "colab": {}
      },
      "source": [
        "linf=np.array([0., 0., 1.])"
      ],
      "execution_count": 0,
      "outputs": []
    },
    {
      "cell_type": "markdown",
      "metadata": {
        "id": "T4WBAlV4OOsg",
        "colab_type": "text"
      },
      "source": [
        "then, we find the directions of segments by `ab`, `ac` and `ae` intersecting their lines with the line at infinity"
      ]
    },
    {
      "cell_type": "code",
      "metadata": {
        "id": "k8wvL8INOOsh",
        "colab_type": "code",
        "colab": {}
      },
      "source": [
        "dab=cross(lab,linf)\n",
        "dac=cross(lac,linf)\n",
        "dae=cross(lae,linf)"
      ],
      "execution_count": 0,
      "outputs": []
    },
    {
      "cell_type": "markdown",
      "metadata": {
        "id": "oEwHNLn7OOso",
        "colab_type": "text"
      },
      "source": [
        "`dab`, `dac` and `dae` are __points at the infinity__, which represent __directions__. \n",
        "All lines with a given direction pass through the corresponding point at the infinity. \n",
        "We can then find the lines containing segments `bd` and `cd`."
      ]
    },
    {
      "cell_type": "code",
      "metadata": {
        "id": "9piZl6fFOOsp",
        "colab_type": "code",
        "colab": {}
      },
      "source": [
        "lbd=cross(b,dac)\n",
        "lcd=cross(c,dab)"
      ],
      "execution_count": 0,
      "outputs": []
    },
    {
      "cell_type": "markdown",
      "metadata": {
        "id": "iMQ45NocOOsu",
        "colab_type": "text"
      },
      "source": [
        "point `d` is now found by just __intersecting__ `lbd` and `lcd`"
      ]
    },
    {
      "cell_type": "code",
      "metadata": {
        "id": "lvATQ_KuOOsw",
        "colab_type": "code",
        "colab": {}
      },
      "source": [
        "d=cross(lbd,lcd)"
      ],
      "execution_count": 0,
      "outputs": []
    },
    {
      "cell_type": "markdown",
      "metadata": {
        "id": "xfptF4nROOs2",
        "colab_type": "text"
      },
      "source": [
        "we normalize `d`'s coordinates so that we can read its cartesian coordinates in `d[0]` and `d[1]`. \n",
        "We plot the point with a blue dot."
      ]
    },
    {
      "cell_type": "code",
      "metadata": {
        "id": "1NWdXy2OOOs4",
        "colab_type": "code",
        "colab": {},
        "outputId": "594f8109-08f3-49a1-eb0c-48bfb8bdd3e6"
      },
      "source": [
        "d=d/d[2]\n",
        "plt.imshow(img)\n",
        "\n",
        "plt.plot(a[0],a[1],'.r')\n",
        "plt.plot(b[0],b[1],'.r')\n",
        "plt.plot(c[0],c[1],'.r')\n",
        "plt.plot(d[0],d[1],'.b')\n",
        "plt.show()\n"
      ],
      "execution_count": 0,
      "outputs": [
        {
          "output_type": "display_data",
          "data": {
            "image/png": "[encoded data removed]",
            "text/plain": [
              "<Figure size 432x288 with 1 Axes>"
            ]
          },
          "metadata": {
            "tags": [],
            "needs_background": "light"
          }
        }
      ]
    },
    {
      "cell_type": "markdown",
      "metadata": {
        "id": "TZefAkkeOOs9",
        "colab_type": "text"
      },
      "source": [
        "We now follow the same procedure to find `f`"
      ]
    },
    {
      "cell_type": "code",
      "metadata": {
        "id": "tfvBLsu8OOs_",
        "colab_type": "code",
        "colab": {},
        "outputId": "6e0cbe7d-e1d9-4097-e6bb-dde2ec4f4e03"
      },
      "source": [
        "\n",
        "lbf=cross(b,dae)\n",
        "lef=cross(e,dab)\n",
        "\n",
        "f=cross(lbf,lef)\n",
        "\n",
        "\n",
        "f=f/f[2]\n",
        "plt.imshow(img)\n",
        "\n",
        "plt.plot(a[0],a[1],'.r')\n",
        "plt.plot(b[0],b[1],'.r')\n",
        "plt.plot(c[0],c[1],'.r')\n",
        "plt.plot(d[0],d[1],'.b')\n",
        "plt.plot(f[0],f[1],'.b')\n",
        "plt.show()\n"
      ],
      "execution_count": 0,
      "outputs": [
        {
          "output_type": "display_data",
          "data": {
            "image/png": "[encoded data removed]",
            "text/plain": [
              "<Figure size 432x288 with 1 Axes>"
            ]
          },
          "metadata": {
            "tags": [],
            "needs_background": "light"
          }
        }
      ]
    },
    {
      "cell_type": "markdown",
      "metadata": {
        "id": "2aioimSfOOtD",
        "colab_type": "text"
      },
      "source": [
        "and then for `g`"
      ]
    },
    {
      "cell_type": "code",
      "metadata": {
        "id": "huT3q1F0OOtF",
        "colab_type": "code",
        "colab": {},
        "outputId": "2d05b0c4-dc79-4625-af88-e28ced36ed56"
      },
      "source": [
        "lcg=cross(c,dae)\n",
        "leg=cross(e,dac)\n",
        "\n",
        "g=cross(lcg,leg)\n",
        "\n",
        "\n",
        "g=g/g[2]\n",
        "\n",
        "plt.imshow(img)\n",
        "plt.plot(a[0],a[1],'.r')\n",
        "plt.plot(b[0],b[1],'.r')\n",
        "plt.plot(c[0],c[1],'.r')\n",
        "plt.plot(d[0],d[1],'.b')\n",
        "plt.plot(f[0],f[1],'.b')\n",
        "plt.plot(g[0],g[1],'.b')\n",
        "plt.show()"
      ],
      "execution_count": 0,
      "outputs": [
        {
          "output_type": "display_data",
          "data": {
            "image/png": "[encoded data removed]",
            "text/plain": [
              "<Figure size 432x288 with 1 Axes>"
            ]
          },
          "metadata": {
            "tags": [],
            "needs_background": "light"
          }
        }
      ]
    },
    {
      "cell_type": "markdown",
      "metadata": {
        "id": "TDSZKypaOOtK",
        "colab_type": "text"
      },
      "source": [
        "We now have all the elements to compute  the position of `h`"
      ]
    },
    {
      "cell_type": "code",
      "metadata": {
        "id": "Hq5ChFlqOOtM",
        "colab_type": "code",
        "colab": {},
        "outputId": "f4d45934-6749-420f-ecd8-e0159bfebd32"
      },
      "source": [
        "ldh=cross(d,dae)\n",
        "lfh=cross(f,dac)\n",
        "\n",
        "h=cross(lfh,ldh)\n",
        "\n",
        "\n",
        "h=h/h[2]\n",
        "\n",
        "plt.imshow(img)\n",
        "plt.plot(a[0],a[1], 'r.')\n",
        "plt.plot(b[0],b[1], 'r.')\n",
        "plt.plot(c[0],c[1], 'r.')\n",
        "plt.plot(d[0],d[1],'.r')\n",
        "plt.plot(e[0],e[1], 'r.')\n",
        "plt.plot(f[0], f[1],'.r') \n",
        "plt.plot(g[0], g[1],'.r')\n",
        "plt.plot(h[0], h[1],'.r')\n",
        "plt.show()"
      ],
      "execution_count": 0,
      "outputs": [
        {
          "output_type": "display_data",
          "data": {
            "image/png": "[encoded data removed]",
            "text/plain": [
              "<Figure size 432x288 with 1 Axes>"
            ]
          },
          "metadata": {
            "tags": [],
            "needs_background": "light"
          }
        }
      ]
    },
    {
      "cell_type": "code",
      "metadata": {
        "id": "zAgFTcAwOOtP",
        "colab_type": "code",
        "colab": {}
      },
      "source": [
        ""
      ],
      "execution_count": 0,
      "outputs": []
    },
    {
      "cell_type": "code",
      "metadata": {
        "id": "p8oxqgnrOOtV",
        "colab_type": "code",
        "colab": {}
      },
      "source": [
        ""
      ],
      "execution_count": 0,
      "outputs": []
    }
  ]
}