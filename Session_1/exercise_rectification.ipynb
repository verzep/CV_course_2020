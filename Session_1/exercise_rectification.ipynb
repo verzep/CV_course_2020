{
 "cells": [
  {
   "cell_type": "markdown",
   "metadata": {
    "colab_type": "text",
    "id": "wqLq2Mb2O_FQ"
   },
   "source": [
    "#  Rectification\n",
    "## Computer Vision & Pattern Recognition 2020  ( Professor G. Boracchi)\n",
    "## Lab. Session 1\n",
    "------------\n",
    "### Pietro Verzelli\n"
   ]
  },
  {
   "cell_type": "code",
   "execution_count": 0,
   "metadata": {
    "colab": {},
    "colab_type": "code",
    "id": "MnfFl6urO_FY"
   },
   "outputs": [],
   "source": [
    "import time\n",
    "import numpy as np\n",
    "import matplotlib\n",
    "matplotlib.use('TkAgg')\n",
    "import matplotlib.pyplot as plt"
   ]
  },
  {
   "cell_type": "code",
   "execution_count": 0,
   "metadata": {
    "colab": {},
    "colab_type": "code",
    "id": "JPcJL0JIO_Fn"
   },
   "outputs": [],
   "source": [
    "from utils import select_points, draw_line"
   ]
  },
  {
   "cell_type": "code",
   "execution_count": 0,
   "metadata": {
    "colab": {},
    "colab_type": "code",
    "id": "sguvM6F9O_Fv"
   },
   "outputs": [],
   "source": [
    "img = plt.imread(\"bluecube.jpg\")\n",
    "pts = select_points(img, 4)\n",
    "print(pts)"
   ]
  },
  {
   "cell_type": "markdown",
   "metadata": {
    "colab_type": "text",
    "id": "reEqxPqLO_F2"
   },
   "source": [
    "Take the points `a`, `b`,`c`,`d`"
   ]
  },
  {
   "cell_type": "code",
   "execution_count": 0,
   "metadata": {
    "colab": {},
    "colab_type": "code",
    "id": "f-xmOrlKO_F5"
   },
   "outputs": [],
   "source": [
    "'''\n",
    "------------------\n",
    "YOUR CODE HERE\n",
    "------------------\n",
    "'''"
   ]
  },
  {
   "cell_type": "markdown",
   "metadata": {
    "colab_type": "text",
    "id": "Kthe_HhkO_GA"
   },
   "source": [
    "### OPTION 1\n",
    "\n",
    "\n",
    "rectify the image by sending the horizon to [0,0,1]\n",
    "\n",
    "---------\n",
    "\n",
    "first compute the lines intersecting the points"
   ]
  },
  {
   "cell_type": "code",
   "execution_count": 0,
   "metadata": {
    "colab": {},
    "colab_type": "code",
    "id": "nh741E79O_GD"
   },
   "outputs": [],
   "source": [
    "from numpy import cross\n",
    "\n",
    "# compute lines\n",
    "'''\n",
    "------------------\n",
    "YOUR CODE HERE\n",
    "------------------\n",
    "'''\n"
   ]
  },
  {
   "cell_type": "markdown",
   "metadata": {
    "colab_type": "text",
    "id": "i0klNtQaO_GJ"
   },
   "source": [
    "Find vanishing points (intersect parallel lines)\n",
    "\n",
    "__NB:__ normalization needed for visualization"
   ]
  },
  {
   "cell_type": "code",
   "execution_count": 0,
   "metadata": {
    "colab": {},
    "colab_type": "code",
    "id": "hagpvt9pO_GL"
   },
   "outputs": [],
   "source": [
    "'''\n",
    "------------------\n",
    "YOUR CODE HERE\n",
    "------------------\n",
    "'''"
   ]
  },
  {
   "cell_type": "markdown",
   "metadata": {
    "colab_type": "text",
    "id": "XrbZK8qhO_GR"
   },
   "source": [
    "Draw the lines joining couples of vertices with their vanishing points and draw the line joining the two vanishing points"
   ]
  },
  {
   "cell_type": "code",
   "execution_count": 0,
   "metadata": {
    "colab": {},
    "colab_type": "code",
    "id": "KRvVvxrEO_GU"
   },
   "outputs": [],
   "source": [
    "#draw a few lines\n",
    "%matplotlib inline\n",
    "\n",
    "'''\n",
    "------------------\n",
    "YOUR CODE HERE\n",
    "------------------\n",
    "'''\n",
    "plt.show()"
   ]
  },
  {
   "cell_type": "markdown",
   "metadata": {
    "colab_type": "text",
    "id": "NngDT3hXO_Ga"
   },
   "source": [
    "Compute the _horizon line_.\n",
    "\n",
    "__NB:__ normalize the horizon coefficients to prevent bad-conditioning of the homography"
   ]
  },
  {
   "cell_type": "code",
   "execution_count": 0,
   "metadata": {
    "colab": {},
    "colab_type": "code",
    "id": "2qXtIhh6O_Gc"
   },
   "outputs": [],
   "source": [
    "#compute the horizon line\n",
    "horz =\n",
    "\n",
    "'''\n",
    "------------------\n",
    "YOUR CODE HERE\n",
    "------------------\n",
    "'''"
   ]
  },
  {
   "cell_type": "markdown",
   "metadata": {
    "colab_type": "text",
    "id": "AbM_2ZRbO_Gk"
   },
   "source": [
    "Finally, we can compute the transformation H.\n",
    "The rectification  will send to [0,0,1] the horizon \n",
    "\n",
    "__NB:__ this is affine rectification: only parallelism is preserved\n",
    "\n",
    "\n",
    "\n",
    " x -> Hx = x'\n",
    " \n",
    " W = H.t.(-1)\n",
    " \n",
    " Wl = 0 0 1\n",
    " \n",
    " H = [1 0 0, 01 0, hor]"
   ]
  },
  {
   "cell_type": "code",
   "execution_count": 0,
   "metadata": {
    "colab": {},
    "colab_type": "code",
    "id": "JX49-9oBO_Gn"
   },
   "outputs": [],
   "source": [
    "H = \n",
    "\n",
    "'''\n",
    "------------------\n",
    "YOUR CODE HERE\n",
    "------------------\n",
    "'''\n",
    "\n",
    "#horz is defined up to a scaling factor, \n",
    "#the matrix is lower triangular \n",
    "#I can change the determinant by just changing the sign of the last row\n",
    "\n",
    "if np.linalg.det(H) < 0:\n",
    "    H =\n",
    "'''\n",
    "------------------\n",
    "YOUR CODE HERE\n",
    "------------------\n",
    "'''"
   ]
  },
  {
   "cell_type": "markdown",
   "metadata": {
    "colab_type": "text",
    "id": "n5hpHkGnO_Gu"
   },
   "source": [
    "### Image warp"
   ]
  },
  {
   "cell_type": "code",
   "execution_count": 0,
   "metadata": {
    "colab": {},
    "colab_type": "code",
    "id": "kM29D2eDO_Gx"
   },
   "outputs": [],
   "source": [
    "from scipy import interpolate\n",
    "\n",
    "def imwarpLinear(I,H, bb, step = 100):\n",
    "\n",
    "#1. create a grid using the four points bb\n",
    "        \n",
    "    '''\n",
    "    ------------------\n",
    "    YOUR CODE HERE\n",
    "    ------------------\n",
    "    '''\n",
    "#2. Apply the (inverse) transformation to every point of the grid\n",
    "# REMEMBER NORMALIZATION\n",
    "   \n",
    "    \n",
    "'''\n",
    "------------------\n",
    "YOUR CODE HERE\n",
    "------------------\n",
    "'''\n",
    "#3.interpolate the points to obtain the values and then plot them on a regular grid\n",
    "# you can cheat by using the `function interpolate.interp2d`\n",
    "\n",
    "'''\n",
    "------------------\n",
    "YOUR CODE HERE\n",
    "------------------\n",
    "'''\n",
    "\n",
    "    return tranformed\n",
    "    \n",
    "    \n",
    "    \n",
    "    \n",
    "    \n",
    "    "
   ]
  },
  {
   "cell_type": "code",
   "execution_count": 0,
   "metadata": {
    "colab": {},
    "colab_type": "code",
    "id": "LSqfYVlnO_G3"
   },
   "outputs": [],
   "source": [
    "J = imwarpLinear(img, H, [200,200 , 1200, 1200], step = 10);\n",
    "plt.imshow(J, cmap = 'gray')"
   ]
  },
  {
   "cell_type": "markdown",
   "metadata": {
    "colab_type": "text",
    "id": "2RPy3ythO_G_"
   },
   "source": [
    "### Option 2\n",
    "\n",
    "estimate the trasformation mapping 4 points over a square.\n",
    "\n",
    "-------------------\n",
    "\n",
    "First put the points in an array `x`"
   ]
  },
  {
   "cell_type": "code",
   "execution_count": 0,
   "metadata": {
    "colab": {},
    "colab_type": "code",
    "id": "oiPE5yA1O_HB"
   },
   "outputs": [],
   "source": [
    "'''\n",
    "------------------\n",
    "YOUR CODE HERE\n",
    "------------------\n",
    "'''"
   ]
  },
  {
   "cell_type": "markdown",
   "metadata": {
    "colab_type": "text",
    "id": "8Pb0un2EO_HI"
   },
   "source": [
    "Then define a square\n",
    "\n",
    "__NB:__ mind the order"
   ]
  },
  {
   "cell_type": "code",
   "execution_count": 0,
   "metadata": {
    "colab": {},
    "colab_type": "code",
    "id": "q6wIrhwRO_HL"
   },
   "outputs": [],
   "source": [
    "'''\n",
    "------------------\n",
    "YOUR CODE HERE\n",
    "------------------\n",
    "'''\n"
   ]
  },
  {
   "cell_type": "markdown",
   "metadata": {
    "colab_type": "text",
    "id": "ou4CvG7SO_HQ"
   },
   "source": [
    "Put the points in an arrays `xP` (P standing for prime)"
   ]
  },
  {
   "cell_type": "code",
   "execution_count": 0,
   "metadata": {
    "colab": {},
    "colab_type": "code",
    "id": "30gayYgTO_HT"
   },
   "outputs": [],
   "source": [
    "'''\n",
    "------------------\n",
    "YOUR CODE HERE\n",
    "------------------\n",
    "'''\n",
    "\n"
   ]
  },
  {
   "cell_type": "markdown",
   "metadata": {
    "colab_type": "text",
    "id": "nsXj603bO_HY"
   },
   "source": [
    "Now define a function to construct the matrix `A` (see the lecture notes or the whiteboard)"
   ]
  },
  {
   "cell_type": "code",
   "execution_count": 0,
   "metadata": {
    "colab": {},
    "colab_type": "code",
    "id": "zSz_YJ0NO_Ha"
   },
   "outputs": [],
   "source": [
    "def create_A(x, xP):\n",
    "    \n",
    "'''\n",
    "------------------\n",
    "YOUR CODE HERE\n",
    "------------------\n",
    "'''\n",
    "    return A\n",
    "\n",
    "\n",
    "    "
   ]
  },
  {
   "cell_type": "markdown",
   "metadata": {
    "colab_type": "text",
    "id": "Q04BeOH1O_He"
   },
   "source": [
    "Finally, define the homography estimation using the SVD"
   ]
  },
  {
   "cell_type": "code",
   "execution_count": 0,
   "metadata": {
    "colab": {},
    "colab_type": "code",
    "id": "RQK-lUbHO_Hf",
    "scrolled": false
   },
   "outputs": [],
   "source": [
    "def homographyEstimation(x, xP):\n",
    "\n",
    "'''\n",
    "------------------\n",
    "YOUR CODE HERE\n",
    "------------------\n",
    "'''     \n",
    "    return H\n",
    "\n",
    "\n",
    "\n",
    "\n",
    "    "
   ]
  },
  {
   "cell_type": "code",
   "execution_count": 0,
   "metadata": {
    "colab": {},
    "colab_type": "code",
    "id": "RlapgR-3O_Hl"
   },
   "outputs": [],
   "source": [
    "#If your code is correct, this should be the identity\n",
    "H = homographyEstimation(x,xP)\n",
    "\n",
    "H"
   ]
  },
  {
   "cell_type": "code",
   "execution_count": 0,
   "metadata": {
    "colab": {},
    "colab_type": "code",
    "id": "_HL95y6pO_Hq",
    "scrolled": false
   },
   "outputs": [],
   "source": [
    "J = imwarpLinear(img, H, [100,100 , 1400, 1400], step = 10)"
   ]
  },
  {
   "cell_type": "code",
   "execution_count": 0,
   "metadata": {
    "colab": {},
    "colab_type": "code",
    "id": "1O1rTwHNO_Hu"
   },
   "outputs": [],
   "source": []
  },
  {
   "cell_type": "code",
   "execution_count": 0,
   "metadata": {
    "colab": {},
    "colab_type": "code",
    "id": "tBpkiHIlO_Hy"
   },
   "outputs": [],
   "source": []
  },
  {
   "cell_type": "code",
   "execution_count": 0,
   "metadata": {
    "colab": {},
    "colab_type": "code",
    "id": "yJft7pEhO_H2",
    "scrolled": false
   },
   "outputs": [],
   "source": []
  },
  {
   "cell_type": "code",
   "execution_count": 0,
   "metadata": {
    "colab": {},
    "colab_type": "code",
    "id": "fY1qIHdhO_H6"
   },
   "outputs": [],
   "source": []
  },
  {
   "cell_type": "code",
   "execution_count": 0,
   "metadata": {
    "colab": {},
    "colab_type": "code",
    "id": "HuitjWYvO_H9"
   },
   "outputs": [],
   "source": []
  }
 ],
 "metadata": {
  "colab": {
   "name": "exercise_rectification.ipynb",
   "provenance": []
  },
  "kernelspec": {
   "display_name": "Python 3",
   "language": "python",
   "name": "python3"
  },
  "language_info": {
   "codemirror_mode": {
    "name": "ipython",
    "version": 3
   },
   "file_extension": ".py",
   "mimetype": "text/x-python",
   "name": "python",
   "nbconvert_exporter": "python",
   "pygments_lexer": "ipython3",
   "version": "3.7.6"
  }
 },
 "nbformat": 4,
 "nbformat_minor": 1
}
