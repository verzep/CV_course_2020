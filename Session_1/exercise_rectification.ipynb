{
  "nbformat": 4,
  "nbformat_minor": 0,
  "metadata": {
    "kernelspec": {
      "display_name": "Python 3",
      "language": "python",
      "name": "python3"
    },
    "language_info": {
      "codemirror_mode": {
        "name": "ipython",
        "version": 3
      },
      "file_extension": ".py",
      "mimetype": "text/x-python",
      "name": "python",
      "nbconvert_exporter": "python",
      "pygments_lexer": "ipython3",
      "version": "3.7.4"
    },
    "colab": {
      "name": "exercise_rectification.ipynb",
      "provenance": []
    }
  },
  "cells": [
    {
      "cell_type": "markdown",
      "metadata": {
        "id": "wqLq2Mb2O_FQ",
        "colab_type": "text"
      },
      "source": [
        "#  Rectification\n",
        "## Computer Vision & Pattern Recognition 2020  ( Professor G. Boracchi)\n",
        "## Lab. Session 1\n",
        "------------\n",
        "### Pietro Verzelli\n"
      ]
    },
    {
      "cell_type": "code",
      "metadata": {
        "id": "MnfFl6urO_FY",
        "colab_type": "code",
        "colab": {}
      },
      "source": [
        "import time\n",
        "import numpy as np\n",
        "import matplotlib\n",
        "matplotlib.use('TkAgg')\n",
        "import matplotlib.pyplot as plt"
      ],
      "execution_count": 0,
      "outputs": []
    },
    {
      "cell_type": "code",
      "metadata": {
        "id": "JPcJL0JIO_Fn",
        "colab_type": "code",
        "colab": {}
      },
      "source": [
        "from utils import select_points, draw_line"
      ],
      "execution_count": 0,
      "outputs": []
    },
    {
      "cell_type": "code",
      "metadata": {
        "id": "sguvM6F9O_Fv",
        "colab_type": "code",
        "colab": {}
      },
      "source": [
        "img = plt.imread(\"bluecube.jpg\")\n",
        "pts = select_points(img, 4)\n",
        "print(pts)"
      ],
      "execution_count": 0,
      "outputs": []
    },
    {
      "cell_type": "markdown",
      "metadata": {
        "id": "reEqxPqLO_F2",
        "colab_type": "text"
      },
      "source": [
        "Take the points `a`, `b`,`c`,`d`"
      ]
    },
    {
      "cell_type": "code",
      "metadata": {
        "id": "f-xmOrlKO_F5",
        "colab_type": "code",
        "colab": {}
      },
      "source": [
        "'''\n",
        "------------------\n",
        "YOUR CODE HERE\n",
        "------------------\n",
        "'''"
      ],
      "execution_count": 0,
      "outputs": []
    },
    {
      "cell_type": "markdown",
      "metadata": {
        "id": "Kthe_HhkO_GA",
        "colab_type": "text"
      },
      "source": [
        "### OPTION 1\n",
        "\n",
        "\n",
        "rectify the image by sending the horizon to [0,0,1]\n",
        "\n",
        "---------\n",
        "\n",
        "first compute the lines intersecting the points"
      ]
    },
    {
      "cell_type": "code",
      "metadata": {
        "id": "nh741E79O_GD",
        "colab_type": "code",
        "colab": {}
      },
      "source": [
        "from numpy import cross\n",
        "\n",
        "# compute lines\n",
        "'''\n",
        "------------------\n",
        "YOUR CODE HERE\n",
        "------------------\n",
        "'''\n"
      ],
      "execution_count": 0,
      "outputs": []
    },
    {
      "cell_type": "markdown",
      "metadata": {
        "id": "i0klNtQaO_GJ",
        "colab_type": "text"
      },
      "source": [
        "Find vanishing points (intersect parallel lines)\n",
        "\n",
        "__NB:__ normalization needed for visualization"
      ]
    },
    {
      "cell_type": "code",
      "metadata": {
        "id": "hagpvt9pO_GL",
        "colab_type": "code",
        "colab": {}
      },
      "source": [
        "'''\n",
        "------------------\n",
        "YOUR CODE HERE\n",
        "------------------\n",
        "'''"
      ],
      "execution_count": 0,
      "outputs": []
    },
    {
      "cell_type": "markdown",
      "metadata": {
        "id": "XrbZK8qhO_GR",
        "colab_type": "text"
      },
      "source": [
        "Draw the lines joining couples of vertices with their vanishing points and draw the line joining the two vanishing points"
      ]
    },
    {
      "cell_type": "code",
      "metadata": {
        "id": "KRvVvxrEO_GU",
        "colab_type": "code",
        "colab": {}
      },
      "source": [
        "#draw a few lines\n",
        "%matplotlib inline\n",
        "\n",
        "'''\n",
        "------------------\n",
        "YOUR CODE HERE\n",
        "------------------\n",
        "'''\n",
        "plt.show()"
      ],
      "execution_count": 0,
      "outputs": []
    },
    {
      "cell_type": "markdown",
      "metadata": {
        "id": "NngDT3hXO_Ga",
        "colab_type": "text"
      },
      "source": [
        "Compute the _horizon line_.\n",
        "\n",
        "__NB:__ normalize the horizon coefficients to prevent bad-conditioning of the homography"
      ]
    },
    {
      "cell_type": "code",
      "metadata": {
        "id": "2qXtIhh6O_Gc",
        "colab_type": "code",
        "colab": {}
      },
      "source": [
        "#compute the horizon line\n",
        "horz =\n",
        "\n",
        "'''\n",
        "------------------\n",
        "YOUR CODE HERE\n",
        "------------------\n",
        "'''"
      ],
      "execution_count": 0,
      "outputs": []
    },
    {
      "cell_type": "markdown",
      "metadata": {
        "id": "AbM_2ZRbO_Gk",
        "colab_type": "text"
      },
      "source": [
        "Finally, we can compute the transformation H.\n",
        "The rectification  will send to [0,0,1] the horizon \n",
        "\n",
        "__NB:__ this is affine rectification: only parallelism is preserved"
      ]
    },
    {
      "cell_type": "code",
      "metadata": {
        "id": "JX49-9oBO_Gn",
        "colab_type": "code",
        "colab": {}
      },
      "source": [
        "H = \n",
        "\n",
        "'''\n",
        "------------------\n",
        "YOUR CODE HERE\n",
        "------------------\n",
        "'''\n",
        "\n",
        "#horz is defined up to a scaling factor, \n",
        "#the matrix is lower triangular \n",
        "#I can change the determinant by just changing the sign of the last row\n",
        "\n",
        "if np.linalg.det(H) < 0:\n",
        "    H =\n",
        "'''\n",
        "------------------\n",
        "YOUR CODE HERE\n",
        "------------------\n",
        "'''"
      ],
      "execution_count": 0,
      "outputs": []
    },
    {
      "cell_type": "markdown",
      "metadata": {
        "id": "n5hpHkGnO_Gu",
        "colab_type": "text"
      },
      "source": [
        "### Image warp"
      ]
    },
    {
      "cell_type": "code",
      "metadata": {
        "id": "kM29D2eDO_Gx",
        "colab_type": "code",
        "colab": {}
      },
      "source": [
        "from scipy import interpolate\n",
        "\n",
        "def imwarpLinear(I,H, bb, step = 100):\n",
        "\n",
        "#1. create a grid using the four points bb\n",
        "        \n",
        "    '''\n",
        "    ------------------\n",
        "    YOUR CODE HERE\n",
        "    ------------------\n",
        "    '''\n",
        "#2. Apply the (inverse) transformation to every point of the grid\n",
        "# REMEMBER NORMALIZATION\n",
        "   \n",
        "    \n",
        "'''\n",
        "------------------\n",
        "YOUR CODE HERE\n",
        "------------------\n",
        "'''\n",
        "#3.interpolate the points to obtain the values and then plot them on a regular grid\n",
        "# you can cheat by using the `function interpolate.interp2d`\n",
        "\n",
        "'''\n",
        "------------------\n",
        "YOUR CODE HERE\n",
        "------------------\n",
        "'''\n",
        "\n",
        "    return tranformed\n",
        "    \n",
        "    \n",
        "    \n",
        "    \n",
        "    \n",
        "    "
      ],
      "execution_count": 0,
      "outputs": []
    },
    {
      "cell_type": "code",
      "metadata": {
        "id": "LSqfYVlnO_G3",
        "colab_type": "code",
        "colab": {}
      },
      "source": [
        "J = imwarpLinear(img, H, [200,200 , 1200, 1200], step = 10);\n",
        "plt.imshow(J, cmap = 'gray')"
      ],
      "execution_count": 0,
      "outputs": []
    },
    {
      "cell_type": "markdown",
      "metadata": {
        "id": "2RPy3ythO_G_",
        "colab_type": "text"
      },
      "source": [
        "### Option 2\n",
        "\n",
        "estimate the trasformation mapping 4 points over a square.\n",
        "\n",
        "-------------------\n",
        "\n",
        "First put the points in an array `x`"
      ]
    },
    {
      "cell_type": "code",
      "metadata": {
        "id": "oiPE5yA1O_HB",
        "colab_type": "code",
        "colab": {}
      },
      "source": [
        "'''\n",
        "------------------\n",
        "YOUR CODE HERE\n",
        "------------------\n",
        "'''"
      ],
      "execution_count": 0,
      "outputs": []
    },
    {
      "cell_type": "markdown",
      "metadata": {
        "id": "8Pb0un2EO_HI",
        "colab_type": "text"
      },
      "source": [
        "Then define a square\n",
        "\n",
        "__NB:__ mind the order"
      ]
    },
    {
      "cell_type": "code",
      "metadata": {
        "id": "q6wIrhwRO_HL",
        "colab_type": "code",
        "colab": {}
      },
      "source": [
        "'''\n",
        "------------------\n",
        "YOUR CODE HERE\n",
        "------------------\n",
        "'''\n"
      ],
      "execution_count": 0,
      "outputs": []
    },
    {
      "cell_type": "markdown",
      "metadata": {
        "id": "ou4CvG7SO_HQ",
        "colab_type": "text"
      },
      "source": [
        "Put the points in an arrays `xP` (P standing for prime)"
      ]
    },
    {
      "cell_type": "code",
      "metadata": {
        "id": "30gayYgTO_HT",
        "colab_type": "code",
        "colab": {}
      },
      "source": [
        "'''\n",
        "------------------\n",
        "YOUR CODE HERE\n",
        "------------------\n",
        "'''\n",
        "\n"
      ],
      "execution_count": 0,
      "outputs": []
    },
    {
      "cell_type": "markdown",
      "metadata": {
        "id": "nsXj603bO_HY",
        "colab_type": "text"
      },
      "source": [
        "Now define a function to construct the matrix `A` (see the lecture notes or the whiteboard)"
      ]
    },
    {
      "cell_type": "code",
      "metadata": {
        "id": "zSz_YJ0NO_Ha",
        "colab_type": "code",
        "colab": {}
      },
      "source": [
        "def create_A(x, xP):\n",
        "    \n",
        "'''\n",
        "------------------\n",
        "YOUR CODE HERE\n",
        "------------------\n",
        "'''\n",
        "    return A\n",
        "\n",
        "\n",
        "    "
      ],
      "execution_count": 0,
      "outputs": []
    },
    {
      "cell_type": "markdown",
      "metadata": {
        "id": "Q04BeOH1O_He",
        "colab_type": "text"
      },
      "source": [
        "Finally, define the homography estimation using the SVD"
      ]
    },
    {
      "cell_type": "code",
      "metadata": {
        "scrolled": false,
        "id": "RQK-lUbHO_Hf",
        "colab_type": "code",
        "colab": {}
      },
      "source": [
        "def homographyEstimation(x, xP):\n",
        "\n",
        "'''\n",
        "------------------\n",
        "YOUR CODE HERE\n",
        "------------------\n",
        "'''     \n",
        "    return H\n",
        "\n",
        "\n",
        "\n",
        "\n",
        "    "
      ],
      "execution_count": 0,
      "outputs": []
    },
    {
      "cell_type": "code",
      "metadata": {
        "id": "RlapgR-3O_Hl",
        "colab_type": "code",
        "colab": {}
      },
      "source": [
        "#If your code is correct, this should be the identity\n",
        "H = homographyEstimation(x,xP)\n",
        "\n",
        "H"
      ],
      "execution_count": 0,
      "outputs": []
    },
    {
      "cell_type": "code",
      "metadata": {
        "scrolled": false,
        "id": "_HL95y6pO_Hq",
        "colab_type": "code",
        "colab": {}
      },
      "source": [
        "J = imwarpLinear(img, H, [100,100 , 1400, 1400], step = 10)"
      ],
      "execution_count": 0,
      "outputs": []
    },
    {
      "cell_type": "code",
      "metadata": {
        "id": "1O1rTwHNO_Hu",
        "colab_type": "code",
        "colab": {}
      },
      "source": [
        ""
      ],
      "execution_count": 0,
      "outputs": []
    },
    {
      "cell_type": "code",
      "metadata": {
        "id": "tBpkiHIlO_Hy",
        "colab_type": "code",
        "colab": {}
      },
      "source": [
        ""
      ],
      "execution_count": 0,
      "outputs": []
    },
    {
      "cell_type": "code",
      "metadata": {
        "scrolled": false,
        "id": "yJft7pEhO_H2",
        "colab_type": "code",
        "colab": {}
      },
      "source": [
        ""
      ],
      "execution_count": 0,
      "outputs": []
    },
    {
      "cell_type": "code",
      "metadata": {
        "id": "fY1qIHdhO_H6",
        "colab_type": "code",
        "colab": {}
      },
      "source": [
        ""
      ],
      "execution_count": 0,
      "outputs": []
    },
    {
      "cell_type": "code",
      "metadata": {
        "id": "HuitjWYvO_H9",
        "colab_type": "code",
        "colab": {}
      },
      "source": [
        ""
      ],
      "execution_count": 0,
      "outputs": []
    }
  ]
}