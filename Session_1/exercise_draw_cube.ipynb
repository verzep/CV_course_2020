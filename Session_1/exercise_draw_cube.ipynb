{
  "nbformat": 4,
  "nbformat_minor": 0,
  "metadata": {
    "kernelspec": {
      "display_name": "Python 3",
      "language": "python",
      "name": "python3"
    },
    "language_info": {
      "codemirror_mode": {
        "name": "ipython",
        "version": 3
      },
      "file_extension": ".py",
      "mimetype": "text/x-python",
      "name": "python",
      "nbconvert_exporter": "python",
      "pygments_lexer": "ipython3",
      "version": "3.7.4"
    },
    "colab": {
      "name": "exercise_draw_cube.ipynb",
      "provenance": [],
      "include_colab_link": true
    }
  },
  "cells": [
    {
      "cell_type": "markdown",
      "metadata": {
        "id": "view-in-github",
        "colab_type": "text"
      },
      "source": [
        "<a href=\"https://colab.research.google.com/github/verzep/CV_course_2020/blob/master/Session_1/exercise_draw_cube.ipynb\" target=\"_parent\"><img src=\"https://colab.research.google.com/assets/colab-badge.svg\" alt=\"Open In Colab\"/></a>"
      ]
    },
    {
      "cell_type": "markdown",
      "metadata": {
        "id": "X5NU9BmKOq0H",
        "colab_type": "text"
      },
      "source": [
        "#  Drawing a cube\n",
        "## Computer Vision & Pattern Recognition 2020  ( Professor G. Boracchi)\n",
        "## Lab. Session 1\n",
        "------------\n",
        "### Pietro Verzelli\n"
      ]
    },
    {
      "cell_type": "code",
      "metadata": {
        "id": "cBm9k_SOOq0M",
        "colab_type": "code",
        "colab": {}
      },
      "source": [
        "import time\n",
        "import numpy as np\n",
        "import matplotlib\n",
        "matplotlib.use('TkAgg')\n",
        "import matplotlib.pyplot as plt\n",
        "#%matplotlib inline"
      ],
      "execution_count": 0,
      "outputs": []
    },
    {
      "cell_type": "code",
      "metadata": {
        "id": "66CpmXSiOq0b",
        "colab_type": "code",
        "colab": {}
      },
      "source": [
        "from utils import select_points, draw_line"
      ],
      "execution_count": 0,
      "outputs": []
    },
    {
      "cell_type": "markdown",
      "metadata": {
        "id": "9XkcHmMqOq0l",
        "colab_type": "text"
      },
      "source": [
        "### A simple geometrical construction with 2D homogeneous coordinates\n",
        "-------\n",
        "\n",
        "Our goal is to complete the drawing of a cuboid. We use need __six__ vertices on the contour of the cuboid."
      ]
    },
    {
      "cell_type": "code",
      "metadata": {
        "scrolled": true,
        "id": "wjr-YQ9gOq0n",
        "colab_type": "code",
        "colab": {}
      },
      "source": [
        "img = plt.imread(\"bluecube.jpg\")\n",
        "pts = select_points(img, 6)\n",
        "print(pts)"
      ],
      "execution_count": 0,
      "outputs": []
    },
    {
      "cell_type": "markdown",
      "metadata": {
        "id": "Zb860CldOq0v",
        "colab_type": "text"
      },
      "source": [
        "We need to assign these values to the points `a`,`b`, `c`, `f`,`g`,`h`."
      ]
    },
    {
      "cell_type": "code",
      "metadata": {
        "scrolled": true,
        "id": "qEezSQD1Oq0x",
        "colab_type": "code",
        "colab": {}
      },
      "source": [
        "'''\n",
        "---------------------------\n",
        "your code here\n",
        "---------------------------\n",
        "'''\n"
      ],
      "execution_count": 0,
      "outputs": []
    },
    {
      "cell_type": "markdown",
      "metadata": {
        "id": "PZhQIYgnOq04",
        "colab_type": "text"
      },
      "source": [
        "Check if you did it right!"
      ]
    },
    {
      "cell_type": "code",
      "metadata": {
        "id": "rX2QLWHGOq07",
        "colab_type": "code",
        "colab": {}
      },
      "source": [
        "%matplotlib inline\n",
        "\n",
        "plt.imshow(img)\n",
        "plt.scatter(a[0],a[1])\n",
        "plt.annotate('a',(a[:2]) )\n",
        "plt.scatter(b[0],b[1])\n",
        "plt.annotate('b', b[:2])\n",
        "plt.scatter(c[0],c[1])\n",
        "plt.annotate('c', c[:2])\n",
        "\n",
        "plt.scatter(f[0],f[1])\n",
        "plt.annotate('f', f[:2])\n",
        "plt.scatter(g[0],g[1])\n",
        "plt.annotate('g', g[:2])\n",
        "plt.scatter(h[0],h[1])\n",
        "plt.annotate('h', h[:2])\n",
        "\n",
        "plt.show()"
      ],
      "execution_count": 0,
      "outputs": []
    },
    {
      "cell_type": "markdown",
      "metadata": {
        "id": "rDsBRhRgOq1B",
        "colab_type": "text"
      },
      "source": [
        "### Finding and plotting vanishing points\n",
        "--------\n",
        "\n",
        "`lAB= cross(A,B)` where `A` and `B` are points computes the line `lAB` passing through `AB` (the 3 coefficient vector).\n",
        "\n",
        "`D = cross(lAB, lGH)`, where `lAB` and `lGH` are the 1x3 coefficient vectors yield the intersection of the two lines.\n",
        "\n",
        "_Remark_ :  to determine wether a point `A` belongs to a line `l` it's enough to check whether the scalar product between `A` and `l` is zero, i.e., `A.dot(l) == 0`."
      ]
    },
    {
      "cell_type": "code",
      "metadata": {
        "id": "cKrdWmMcOq1D",
        "colab_type": "code",
        "colab": {}
      },
      "source": [
        "from numpy import cross\n",
        "\n",
        "'''\n",
        "---------------------------\n",
        "your code here\n",
        "---------------------------\n",
        "'''\n",
        "\n",
        "# points have to be normalized before visualizing them on the plane\n",
        "# these are quite far from the image region (plot them!)"
      ],
      "execution_count": 0,
      "outputs": []
    },
    {
      "cell_type": "markdown",
      "metadata": {
        "id": "1GMgvXREOq1J",
        "colab_type": "text"
      },
      "source": [
        "### Finding the missing points (d and e)"
      ]
    },
    {
      "cell_type": "code",
      "metadata": {
        "id": "Wgxi6K7yOq1N",
        "colab_type": "code",
        "colab": {}
      },
      "source": [
        "'''\n",
        "---------------------------\n",
        "your code here\n",
        "---------------------------\n",
        "'''"
      ],
      "execution_count": 0,
      "outputs": []
    },
    {
      "cell_type": "markdown",
      "metadata": {
        "id": "_q8j6cD6Oq1T",
        "colab_type": "text"
      },
      "source": [
        "If you did it correctly, the point should correspond to the vertices"
      ]
    },
    {
      "cell_type": "code",
      "metadata": {
        "id": "2WVsYoGhOq1U",
        "colab_type": "code",
        "colab": {}
      },
      "source": [
        "plt.imshow(img)\n",
        "\n",
        "plt.scatter(a[0],a[1])\n",
        "plt.annotate('a',(a[:2]) )\n",
        "plt.scatter(b[0],b[1])\n",
        "plt.annotate('b', b[:2])\n",
        "plt.scatter(c[0],c[1])\n",
        "plt.annotate('c', c[:2])\n",
        "\n",
        "plt.scatter(d[0],d[1])\n",
        "plt.annotate('d', d[:2])\n",
        "\n",
        "plt.scatter(e[0],c[1])\n",
        "plt.annotate('e', e[:2])\n",
        "\n",
        "\n",
        "plt.scatter(f[0],f[1])\n",
        "plt.annotate('f', f[:2])\n",
        "plt.scatter(g[0],g[1])\n",
        "plt.annotate('g', g[:2])\n",
        "plt.scatter(h[0],h[1])\n",
        "plt.annotate('h', h[:2])\n",
        "\n",
        "plt.show()"
      ],
      "execution_count": 0,
      "outputs": []
    },
    {
      "cell_type": "markdown",
      "metadata": {
        "id": "dvdosxCNOq1a",
        "colab_type": "text"
      },
      "source": [
        "We can also draw  a cube!"
      ]
    },
    {
      "cell_type": "code",
      "metadata": {
        "id": "6iSVOMlpOq1e",
        "colab_type": "code",
        "colab": {}
      },
      "source": [
        "plt.figure(figsize=(10,10))\n",
        "plt.imshow(img)\n",
        "\n",
        "draw_line(a,b)\n",
        "draw_line(b,d, 'b--')\n",
        "draw_line(a,c)\n",
        "draw_line(d,c, 'b--')\n",
        "draw_line(a,e)\n",
        "draw_line(b,f)\n",
        "draw_line(d,h, 'b--')\n",
        "draw_line(c,g)\n",
        "draw_line(e,f)\n",
        "draw_line(f,h)\n",
        "draw_line(h,g)\n",
        "draw_line(g,e)\n",
        "\n",
        "plt.show()"
      ],
      "execution_count": 0,
      "outputs": []
    },
    {
      "cell_type": "markdown",
      "metadata": {
        "id": "abGPtTgQOq1k",
        "colab_type": "text"
      },
      "source": [
        "# Bonus quest: plotting a proper line (not a segment)\n",
        "----------------\n",
        "\n",
        "Write a function `proper_line(l,Img)` plotting the line `l` by computing the intersections  with the image borders."
      ]
    },
    {
      "cell_type": "code",
      "metadata": {
        "id": "PetDsKL5Oq1l",
        "colab_type": "code",
        "colab": {}
      },
      "source": [
        ""
      ],
      "execution_count": 0,
      "outputs": []
    }
  ]
}