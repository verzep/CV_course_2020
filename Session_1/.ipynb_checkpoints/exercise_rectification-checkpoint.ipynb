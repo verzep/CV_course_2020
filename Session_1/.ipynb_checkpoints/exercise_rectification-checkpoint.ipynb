{
 "cells": [
  {
   "cell_type": "markdown",
   "metadata": {},
   "source": [
    "#  Rectification\n",
    "## Computer Vision & Pattern Recognition 2020  ( Professor G. Boracchi)\n",
    "## Lab. Session 1\n",
    "------------\n",
    "### Pietro Verzelli\n"
   ]
  },
  {
   "cell_type": "code",
   "execution_count": null,
   "metadata": {},
   "outputs": [],
   "source": [
    "import time\n",
    "import numpy as np\n",
    "import matplotlib\n",
    "matplotlib.use('TkAgg')\n",
    "import matplotlib.pyplot as plt"
   ]
  },
  {
   "cell_type": "code",
   "execution_count": null,
   "metadata": {},
   "outputs": [],
   "source": [
    "from utils import select_points, draw_line"
   ]
  },
  {
   "cell_type": "code",
   "execution_count": null,
   "metadata": {},
   "outputs": [],
   "source": [
    "img = plt.imread(\"bluecube.jpg\")\n",
    "pts = select_points(img, 4)\n",
    "print(pts)"
   ]
  },
  {
   "cell_type": "markdown",
   "metadata": {},
   "source": [
    "Take the points `a`, `b`,`c`,`d`"
   ]
  },
  {
   "cell_type": "code",
   "execution_count": null,
   "metadata": {},
   "outputs": [],
   "source": [
    "'''\n",
    "------------------\n",
    "YOUR CODE HERE\n",
    "------------------\n",
    "'''"
   ]
  },
  {
   "cell_type": "markdown",
   "metadata": {},
   "source": [
    "### OPTION 1\n",
    "\n",
    "\n",
    "rectify the image by sending the horizon to [0,0,1]\n",
    "\n",
    "---------\n",
    "\n",
    "first compute the lines intersecting the points"
   ]
  },
  {
   "cell_type": "code",
   "execution_count": null,
   "metadata": {},
   "outputs": [],
   "source": [
    "from numpy import cross\n",
    "\n",
    "# compute lines\n",
    "'''\n",
    "------------------\n",
    "YOUR CODE HERE\n",
    "------------------\n",
    "'''\n"
   ]
  },
  {
   "cell_type": "markdown",
   "metadata": {},
   "source": [
    "Find vanishing points (intersect parallel lines)\n",
    "\n",
    "__NB:__ normalization needed for visualization"
   ]
  },
  {
   "cell_type": "code",
   "execution_count": null,
   "metadata": {},
   "outputs": [],
   "source": [
    "'''\n",
    "------------------\n",
    "YOUR CODE HERE\n",
    "------------------\n",
    "'''"
   ]
  },
  {
   "cell_type": "markdown",
   "metadata": {},
   "source": [
    "Draw the lines joining couples of vertices with their vanishing points and draw the line joining the two vanishing points"
   ]
  },
  {
   "cell_type": "code",
   "execution_count": null,
   "metadata": {},
   "outputs": [],
   "source": [
    "#draw a few lines\n",
    "%matplotlib inline\n",
    "\n",
    "'''\n",
    "------------------\n",
    "YOUR CODE HERE\n",
    "------------------\n",
    "'''\n",
    "plt.show()"
   ]
  },
  {
   "cell_type": "markdown",
   "metadata": {},
   "source": [
    "Compute the _horizon line_.\n",
    "\n",
    "__NB:__ normalize the horizon coefficients to prevent bad-conditioning of the homography"
   ]
  },
  {
   "cell_type": "code",
   "execution_count": null,
   "metadata": {},
   "outputs": [],
   "source": [
    "#compute the horizon line\n",
    "horz =\n",
    "\n",
    "'''\n",
    "------------------\n",
    "YOUR CODE HERE\n",
    "------------------\n",
    "'''"
   ]
  },
  {
   "cell_type": "markdown",
   "metadata": {},
   "source": [
    "Finally, we can compute the transformation H.\n",
    "The rectification  will send to [0,0,1] the horizon \n",
    "\n",
    "__NB:__ this is affine rectification: only parallelism is preserved"
   ]
  },
  {
   "cell_type": "code",
   "execution_count": null,
   "metadata": {},
   "outputs": [],
   "source": [
    "H = \n",
    "\n",
    "'''\n",
    "------------------\n",
    "YOUR CODE HERE\n",
    "------------------\n",
    "'''\n",
    "\n",
    "#horz is defined up to a scaling factor, \n",
    "#the matrix is lower triangular \n",
    "#I can change the determinant by just changing the sign of the last row\n",
    "\n",
    "if np.linalg.det(H) < 0:\n",
    "    H =\n",
    "'''\n",
    "------------------\n",
    "YOUR CODE HERE\n",
    "------------------\n",
    "'''"
   ]
  },
  {
   "cell_type": "markdown",
   "metadata": {},
   "source": [
    "### Image warp"
   ]
  },
  {
   "cell_type": "code",
   "execution_count": null,
   "metadata": {},
   "outputs": [],
   "source": [
    "from scipy import interpolate\n",
    "\n",
    "def imwarpLinear(I,H, bb, step = 100):\n",
    "\n",
    "#1. create a grid using the four points bb\n",
    "        \n",
    "    '''\n",
    "    ------------------\n",
    "    YOUR CODE HERE\n",
    "    ------------------\n",
    "    '''\n",
    "#2. Apply the (inverse) transformation to every point of the grid\n",
    "# REMEMBER NORMALIZATION\n",
    "   \n",
    "    \n",
    "'''\n",
    "------------------\n",
    "YOUR CODE HERE\n",
    "------------------\n",
    "'''\n",
    "#3.interpolate the points to obtain the values and then plot them on a regular grid\n",
    "# you can cheat by using the `function interpolate.interp2d`\n",
    "\n",
    "'''\n",
    "------------------\n",
    "YOUR CODE HERE\n",
    "------------------\n",
    "'''\n",
    "\n",
    "    return tranformed\n",
    "    \n",
    "    \n",
    "    \n",
    "    \n",
    "    \n",
    "    "
   ]
  },
  {
   "cell_type": "code",
   "execution_count": null,
   "metadata": {},
   "outputs": [],
   "source": [
    "J = imwarpLinear(img, H, [200,200 , 1200, 1200], step = 10);\n",
    "plt.imshow(J, cmap = 'gray')"
   ]
  },
  {
   "cell_type": "markdown",
   "metadata": {},
   "source": [
    "### Option 2\n",
    "\n",
    "estimate the trasformation mapping 4 points over a square.\n",
    "\n",
    "-------------------\n",
    "\n",
    "First put the points in an array `x`"
   ]
  },
  {
   "cell_type": "code",
   "execution_count": null,
   "metadata": {},
   "outputs": [],
   "source": [
    "'''\n",
    "------------------\n",
    "YOUR CODE HERE\n",
    "------------------\n",
    "'''"
   ]
  },
  {
   "cell_type": "markdown",
   "metadata": {},
   "source": [
    "Then define a square\n",
    "\n",
    "__NB:__ mind the order"
   ]
  },
  {
   "cell_type": "code",
   "execution_count": null,
   "metadata": {},
   "outputs": [],
   "source": [
    "'''\n",
    "------------------\n",
    "YOUR CODE HERE\n",
    "------------------\n",
    "'''\n"
   ]
  },
  {
   "cell_type": "markdown",
   "metadata": {},
   "source": [
    "Put the points in an arrays `xP` (P standing for prime)"
   ]
  },
  {
   "cell_type": "code",
   "execution_count": null,
   "metadata": {},
   "outputs": [],
   "source": [
    "'''\n",
    "------------------\n",
    "YOUR CODE HERE\n",
    "------------------\n",
    "'''\n",
    "\n"
   ]
  },
  {
   "cell_type": "markdown",
   "metadata": {},
   "source": [
    "Now define a function to construct the matrix `A` (see the lecture notes or the whiteboard)"
   ]
  },
  {
   "cell_type": "code",
   "execution_count": null,
   "metadata": {},
   "outputs": [],
   "source": [
    "def create_A(x, xP):\n",
    "    \n",
    "'''\n",
    "------------------\n",
    "YOUR CODE HERE\n",
    "------------------\n",
    "'''\n",
    "    return A\n",
    "\n",
    "\n",
    "    "
   ]
  },
  {
   "cell_type": "markdown",
   "metadata": {},
   "source": [
    "Finally, define the homography estimation using the SVD"
   ]
  },
  {
   "cell_type": "code",
   "execution_count": null,
   "metadata": {
    "scrolled": false
   },
   "outputs": [],
   "source": [
    "def homographyEstimation(x, xP):\n",
    "\n",
    "'''\n",
    "------------------\n",
    "YOUR CODE HERE\n",
    "------------------\n",
    "'''     \n",
    "    return H\n",
    "\n",
    "\n",
    "\n",
    "\n",
    "    "
   ]
  },
  {
   "cell_type": "code",
   "execution_count": null,
   "metadata": {},
   "outputs": [],
   "source": [
    "#If your code is correct, this should be the identity\n",
    "H = homographyEstimation(x,xP)\n",
    "\n",
    "H"
   ]
  },
  {
   "cell_type": "code",
   "execution_count": null,
   "metadata": {
    "scrolled": false
   },
   "outputs": [],
   "source": [
    "J = imwarpLinear(img, H, [100,100 , 1400, 1400], step = 10)"
   ]
  },
  {
   "cell_type": "code",
   "execution_count": null,
   "metadata": {},
   "outputs": [],
   "source": []
  },
  {
   "cell_type": "code",
   "execution_count": null,
   "metadata": {},
   "outputs": [],
   "source": []
  },
  {
   "cell_type": "code",
   "execution_count": null,
   "metadata": {
    "scrolled": false
   },
   "outputs": [],
   "source": []
  },
  {
   "cell_type": "code",
   "execution_count": null,
   "metadata": {},
   "outputs": [],
   "source": []
  },
  {
   "cell_type": "code",
   "execution_count": null,
   "metadata": {},
   "outputs": [],
   "source": []
  }
 ],
 "metadata": {
  "kernelspec": {
   "display_name": "Python 3",
   "language": "python",
   "name": "python3"
  },
  "language_info": {
   "codemirror_mode": {
    "name": "ipython",
    "version": 3
   },
   "file_extension": ".py",
   "mimetype": "text/x-python",
   "name": "python",
   "nbconvert_exporter": "python",
   "pygments_lexer": "ipython3",
   "version": "3.7.4"
  }
 },
 "nbformat": 4,
 "nbformat_minor": 2
}
